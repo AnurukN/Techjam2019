{
  "cells": [
    {
      "cell_type": "markdown",
      "source": [
        "# Setting"
      ],
      "metadata": {}
    },
    {
      "cell_type": "code",
      "source": [
        "import numpy as np\n",
        "import pandas as pd\n",
        "import datetime as dt"
      ],
      "outputs": [],
      "execution_count": 1,
      "metadata": {}
    },
    {
      "cell_type": "code",
      "source": [
        "cc ='cc.csv'\n",
        "demographics = 'demographics.csv'\n",
        "kplus = 'kplus.csv'\n",
        "train = 'train.csv'\n",
        "test = 'test.csv'"
      ],
      "outputs": [],
      "execution_count": 2,
      "metadata": {}
    },
    {
      "cell_type": "code",
      "source": [
        "cc_data = pd.read_csv(cc, encoding ='UTF-8')\n",
        "demographics_data =  pd.read_csv(demographics, encoding ='UTF-8')\n",
        "kplus_data = pd.read_csv(kplus,encoding ='UTF-8')\n",
        "train_data = pd.read_csv(train,encoding='UTF-8')\n",
        "test_data = pd.read_csv(test,encoding='UTF-8')"
      ],
      "outputs": [],
      "execution_count": 3,
      "metadata": {}
    },
    {
      "cell_type": "code",
      "source": [
        "# a function which prepare to use\n",
        "def percentile(n,s):\n",
        "    def percentile_(x):\n",
        "        return np.percentile(x, n)\n",
        "    percentile_.__name__ =  str(s) +'_percentile_' + str(n)\n",
        "    return percentile_"
      ],
      "outputs": [],
      "execution_count": 4,
      "metadata": {}
    },
    {
      "cell_type": "code",
      "source": [
        " def smape(A, F):\n",
        "    return (100 - (100/len(A) * np.sum(np.sqrt(np.abs(F - A)) / np.sqrt(np.minimum(2*np.abs(A),np.abs(F)) + np.abs(F)))))"
      ],
      "outputs": [],
      "execution_count": 5,
      "metadata": {}
    },
    {
      "cell_type": "markdown",
      "source": [
        "# Feature engineering"
      ],
      "metadata": {}
    },
    {
      "cell_type": "markdown",
      "source": [
        "## train.csv, test.csv"
      ],
      "metadata": {}
    },
    {
      "cell_type": "code",
      "source": [
        "#cast type on train, test\n",
        "train_data['id'] = train_data['id'].astype('str')\n",
        "test_data['id'] = test_data['id'].astype('str')"
      ],
      "outputs": [],
      "execution_count": 6,
      "metadata": {}
    },
    {
      "cell_type": "markdown",
      "source": [
        "## demographics.csv"
      ],
      "metadata": {}
    },
    {
      "cell_type": "code",
      "source": [
        "#cast type on demographics_data\n",
        "demographics_data['id'] = demographics_data['id'].astype('str')\n",
        "demographics_data['cc_no'] = demographics_data['cc_no'].astype('str')\n",
        "#onehot encoder __gender \n",
        "dfDummies = pd.get_dummies(demographics_data['gender'], prefix = 'category_gender')\n",
        "demographics_data = pd.concat([demographics_data, dfDummies], axis=1)\n",
        "#onehot encoder __ocp_cd\n",
        "dfDummies = pd.get_dummies(demographics_data['ocp_cd'], prefix = 'category_ocp_cd')\n",
        "demographics_data = pd.concat([demographics_data, dfDummies], axis=1)\n",
        "\n",
        "demographics_data.drop(columns=['gender', 'ocp_cd'], inplace = True)\n",
        "demographics_data.head()"
      ],
      "outputs": [
        {
          "output_type": "execute_result",
          "execution_count": 7,
          "data": {
            "text/html": [
              "<div>\n",
              "<style scoped>\n",
              "    .dataframe tbody tr th:only-of-type {\n",
              "        vertical-align: middle;\n",
              "    }\n",
              "\n",
              "    .dataframe tbody tr th {\n",
              "        vertical-align: top;\n",
              "    }\n",
              "\n",
              "    .dataframe thead th {\n",
              "        text-align: right;\n",
              "    }\n",
              "</style>\n",
              "<table border=\"1\" class=\"dataframe\">\n",
              "  <thead>\n",
              "    <tr style=\"text-align: right;\">\n",
              "      <th></th>\n",
              "      <th>id</th>\n",
              "      <th>cc_no</th>\n",
              "      <th>age</th>\n",
              "      <th>category_gender_1</th>\n",
              "      <th>category_gender_2</th>\n",
              "      <th>category_ocp_cd_1.0</th>\n",
              "      <th>category_ocp_cd_2.0</th>\n",
              "      <th>category_ocp_cd_3.0</th>\n",
              "      <th>category_ocp_cd_4.0</th>\n",
              "      <th>category_ocp_cd_5.0</th>\n",
              "      <th>category_ocp_cd_6.0</th>\n",
              "      <th>category_ocp_cd_7.0</th>\n",
              "      <th>category_ocp_cd_8.0</th>\n",
              "      <th>category_ocp_cd_9.0</th>\n",
              "      <th>category_ocp_cd_11.0</th>\n",
              "      <th>category_ocp_cd_12.0</th>\n",
              "      <th>category_ocp_cd_13.0</th>\n",
              "    </tr>\n",
              "  </thead>\n",
              "  <tbody>\n",
              "    <tr>\n",
              "      <th>0</th>\n",
              "      <td>1</td>\n",
              "      <td>1</td>\n",
              "      <td>5</td>\n",
              "      <td>0</td>\n",
              "      <td>1</td>\n",
              "      <td>0</td>\n",
              "      <td>0</td>\n",
              "      <td>0</td>\n",
              "      <td>0</td>\n",
              "      <td>0</td>\n",
              "      <td>0</td>\n",
              "      <td>0</td>\n",
              "      <td>0</td>\n",
              "      <td>1</td>\n",
              "      <td>0</td>\n",
              "      <td>0</td>\n",
              "      <td>0</td>\n",
              "    </tr>\n",
              "    <tr>\n",
              "      <th>1</th>\n",
              "      <td>1</td>\n",
              "      <td>98397</td>\n",
              "      <td>5</td>\n",
              "      <td>0</td>\n",
              "      <td>1</td>\n",
              "      <td>0</td>\n",
              "      <td>0</td>\n",
              "      <td>0</td>\n",
              "      <td>0</td>\n",
              "      <td>0</td>\n",
              "      <td>0</td>\n",
              "      <td>0</td>\n",
              "      <td>0</td>\n",
              "      <td>1</td>\n",
              "      <td>0</td>\n",
              "      <td>0</td>\n",
              "      <td>0</td>\n",
              "    </tr>\n",
              "    <tr>\n",
              "      <th>2</th>\n",
              "      <td>2</td>\n",
              "      <td>2</td>\n",
              "      <td>4</td>\n",
              "      <td>0</td>\n",
              "      <td>1</td>\n",
              "      <td>0</td>\n",
              "      <td>0</td>\n",
              "      <td>1</td>\n",
              "      <td>0</td>\n",
              "      <td>0</td>\n",
              "      <td>0</td>\n",
              "      <td>0</td>\n",
              "      <td>0</td>\n",
              "      <td>0</td>\n",
              "      <td>0</td>\n",
              "      <td>0</td>\n",
              "      <td>0</td>\n",
              "    </tr>\n",
              "    <tr>\n",
              "      <th>3</th>\n",
              "      <td>2</td>\n",
              "      <td>9740</td>\n",
              "      <td>4</td>\n",
              "      <td>0</td>\n",
              "      <td>1</td>\n",
              "      <td>0</td>\n",
              "      <td>0</td>\n",
              "      <td>1</td>\n",
              "      <td>0</td>\n",
              "      <td>0</td>\n",
              "      <td>0</td>\n",
              "      <td>0</td>\n",
              "      <td>0</td>\n",
              "      <td>0</td>\n",
              "      <td>0</td>\n",
              "      <td>0</td>\n",
              "      <td>0</td>\n",
              "    </tr>\n",
              "    <tr>\n",
              "      <th>4</th>\n",
              "      <td>3</td>\n",
              "      <td>3</td>\n",
              "      <td>3</td>\n",
              "      <td>0</td>\n",
              "      <td>1</td>\n",
              "      <td>1</td>\n",
              "      <td>0</td>\n",
              "      <td>0</td>\n",
              "      <td>0</td>\n",
              "      <td>0</td>\n",
              "      <td>0</td>\n",
              "      <td>0</td>\n",
              "      <td>0</td>\n",
              "      <td>0</td>\n",
              "      <td>0</td>\n",
              "      <td>0</td>\n",
              "      <td>0</td>\n",
              "    </tr>\n",
              "  </tbody>\n",
              "</table>\n",
              "</div>"
            ],
            "text/plain": [
              "  id  cc_no  age  category_gender_1  category_gender_2  category_ocp_cd_1.0  \\\n",
              "0  1      1    5                  0                  1                    0   \n",
              "1  1  98397    5                  0                  1                    0   \n",
              "2  2      2    4                  0                  1                    0   \n",
              "3  2   9740    4                  0                  1                    0   \n",
              "4  3      3    3                  0                  1                    1   \n",
              "\n",
              "   category_ocp_cd_2.0  category_ocp_cd_3.0  category_ocp_cd_4.0  \\\n",
              "0                    0                    0                    0   \n",
              "1                    0                    0                    0   \n",
              "2                    0                    1                    0   \n",
              "3                    0                    1                    0   \n",
              "4                    0                    0                    0   \n",
              "\n",
              "   category_ocp_cd_5.0  category_ocp_cd_6.0  category_ocp_cd_7.0  \\\n",
              "0                    0                    0                    0   \n",
              "1                    0                    0                    0   \n",
              "2                    0                    0                    0   \n",
              "3                    0                    0                    0   \n",
              "4                    0                    0                    0   \n",
              "\n",
              "   category_ocp_cd_8.0  category_ocp_cd_9.0  category_ocp_cd_11.0  \\\n",
              "0                    0                    1                     0   \n",
              "1                    0                    1                     0   \n",
              "2                    0                    0                     0   \n",
              "3                    0                    0                     0   \n",
              "4                    0                    0                     0   \n",
              "\n",
              "   category_ocp_cd_12.0  category_ocp_cd_13.0  \n",
              "0                     0                     0  \n",
              "1                     0                     0  \n",
              "2                     0                     0  \n",
              "3                     0                     0  \n",
              "4                     0                     0  "
            ]
          },
          "metadata": {}
        }
      ],
      "execution_count": 7,
      "metadata": {}
    },
    {
      "cell_type": "code",
      "source": [
        "demographics_data.info()"
      ],
      "outputs": [
        {
          "output_type": "stream",
          "name": "stdout",
          "text": [
            "<class 'pandas.core.frame.DataFrame'>\n",
            "RangeIndex: 102409 entries, 0 to 102408\n",
            "Data columns (total 17 columns):\n",
            "id                      102409 non-null object\n",
            "cc_no                   102409 non-null object\n",
            "age                     102409 non-null int64\n",
            "category_gender_1       102409 non-null uint8\n",
            "category_gender_2       102409 non-null uint8\n",
            "category_ocp_cd_1.0     102409 non-null uint8\n",
            "category_ocp_cd_2.0     102409 non-null uint8\n",
            "category_ocp_cd_3.0     102409 non-null uint8\n",
            "category_ocp_cd_4.0     102409 non-null uint8\n",
            "category_ocp_cd_5.0     102409 non-null uint8\n",
            "category_ocp_cd_6.0     102409 non-null uint8\n",
            "category_ocp_cd_7.0     102409 non-null uint8\n",
            "category_ocp_cd_8.0     102409 non-null uint8\n",
            "category_ocp_cd_9.0     102409 non-null uint8\n",
            "category_ocp_cd_11.0    102409 non-null uint8\n",
            "category_ocp_cd_12.0    102409 non-null uint8\n",
            "category_ocp_cd_13.0    102409 non-null uint8\n",
            "dtypes: int64(1), object(2), uint8(14)\n",
            "memory usage: 3.7+ MB\n"
          ]
        }
      ],
      "execution_count": 8,
      "metadata": {}
    },
    {
      "cell_type": "code",
      "source": [
        "demographics_feature = demographics_data.drop(columns=['cc_no']).drop_duplicates()"
      ],
      "outputs": [],
      "execution_count": 9,
      "metadata": {}
    },
    {
      "cell_type": "markdown",
      "source": [
        "## cc.csv"
      ],
      "metadata": {}
    },
    {
      "cell_type": "code",
      "source": [
        "#cast type on cc_data\n",
        "cc_data['cc_no'] = cc_data['cc_no'].astype('str')"
      ],
      "outputs": [],
      "execution_count": 10,
      "metadata": {}
    },
    {
      "cell_type": "code",
      "source": [
        "cc_data = demographics_data[['id','cc_no']].merge(cc_data,  left_on=['cc_no'], right_on=['cc_no'], how='left')"
      ],
      "outputs": [],
      "execution_count": 11,
      "metadata": {}
    },
    {
      "cell_type": "code",
      "source": [
        "cc_data = cc_data.fillna(0)"
      ],
      "outputs": [],
      "execution_count": 12,
      "metadata": {}
    },
    {
      "cell_type": "code",
      "source": [
        "s='cc_txn_amt'\n",
        "cc_data_feature = cc_data.groupby(['id']).cc_txn_amt.agg([np.size,np.mean,np.std,np.min,percentile(10,s),percentile(20,s),percentile(30,s),percentile(40,s),percentile(50,s),percentile(60,s),percentile(70,s),percentile(80,s), percentile(90,s), np.max]).rename(columns={'size':'cc_txn_amt_size','amin':'cc_txn_amt_min','amax':'cc_txn_amt_max','mean':'cc_txn_amt_mean','std':'cc_txn_amt_std'})\n",
        "cc_data_feature = cc_data_feature.fillna(0)"
      ],
      "outputs": [],
      "execution_count": 13,
      "metadata": {}
    },
    {
      "cell_type": "code",
      "source": [
        "cc_data_feature.reset_index(inplace = True)"
      ],
      "outputs": [],
      "execution_count": 14,
      "metadata": {}
    },
    {
      "cell_type": "markdown",
      "source": [
        "## kplus.csv"
      ],
      "metadata": {}
    },
    {
      "cell_type": "code",
      "source": [
        "#cast type on cc_data\n",
        "kplus_data['id'] = kplus_data['id'].astype('str')\n",
        "kplus_data['sunday']= pd.to_datetime(kplus_data['sunday']) "
      ],
      "outputs": [],
      "execution_count": 15,
      "metadata": {}
    },
    {
      "cell_type": "code",
      "source": [
        "#build feature from kp_txn_count\n",
        "s='kp_txn_count'\n",
        "kp_txn_count = kplus_data.groupby(['id']).kp_txn_count.agg([np.size,np.mean,np.std,np.min,percentile(10,s),percentile(20,s),percentile(30,s),percentile(40,s),percentile(50,s),percentile(60,s),percentile(70,s),percentile(80,s), percentile(90,s), np.max]).rename(columns={'size':'kp_txn_count_size','amin':'kp_txn_count_min','amax':'kp_txn_count_max','mean':'kp_txn_count_mean','std':'kp_txn_count_std'})"
      ],
      "outputs": [],
      "execution_count": 16,
      "metadata": {}
    },
    {
      "cell_type": "code",
      "source": [
        "#buid feature from kp_txn_amt\n",
        "s='kp_txn_amt'\n",
        "kp_txn_amt = kplus_data.groupby(['id']).kp_txn_amt.agg([np.size,np.mean,np.std,np.min,percentile(10,s),percentile(20,s),percentile(30,s),percentile(40,s),percentile(50,s),percentile(60,s),percentile(70,s),percentile(80,s), percentile(90,s), np.max]).rename(columns={'size':'kp_txn_amt_size','amin':'kp_txn_amt_min','amax':'kp_txn_amt_max','mean':'kp_txn_amt_mean','std':'kp_txn_amt_std'})"
      ],
      "outputs": [],
      "execution_count": 17,
      "metadata": {
        "scrolled": true
      }
    },
    {
      "cell_type": "code",
      "source": [
        "kp_txn_count.reset_index(inplace = True)\n",
        "kp_txn_amt.reset_index(inplace = True)"
      ],
      "outputs": [],
      "execution_count": 18,
      "metadata": {}
    },
    {
      "cell_type": "code",
      "source": [
        "kplus_data_feature = kp_txn_count.merge(kp_txn_amt, left_on=['id'], right_on=['id'])"
      ],
      "outputs": [],
      "execution_count": 19,
      "metadata": {}
    },
    {
      "cell_type": "code",
      "source": [
        "kplus_data_feature.head()"
      ],
      "outputs": [
        {
          "output_type": "execute_result",
          "execution_count": 20,
          "data": {
            "text/html": [
              "<div>\n",
              "<style scoped>\n",
              "    .dataframe tbody tr th:only-of-type {\n",
              "        vertical-align: middle;\n",
              "    }\n",
              "\n",
              "    .dataframe tbody tr th {\n",
              "        vertical-align: top;\n",
              "    }\n",
              "\n",
              "    .dataframe thead th {\n",
              "        text-align: right;\n",
              "    }\n",
              "</style>\n",
              "<table border=\"1\" class=\"dataframe\">\n",
              "  <thead>\n",
              "    <tr style=\"text-align: right;\">\n",
              "      <th></th>\n",
              "      <th>id</th>\n",
              "      <th>kp_txn_count_size</th>\n",
              "      <th>kp_txn_count_mean</th>\n",
              "      <th>kp_txn_count_std</th>\n",
              "      <th>kp_txn_count_min</th>\n",
              "      <th>kp_txn_count_percentile_10</th>\n",
              "      <th>kp_txn_count_percentile_20</th>\n",
              "      <th>kp_txn_count_percentile_30</th>\n",
              "      <th>kp_txn_count_percentile_40</th>\n",
              "      <th>kp_txn_count_percentile_50</th>\n",
              "      <th>...</th>\n",
              "      <th>kp_txn_amt_percentile_10</th>\n",
              "      <th>kp_txn_amt_percentile_20</th>\n",
              "      <th>kp_txn_amt_percentile_30</th>\n",
              "      <th>kp_txn_amt_percentile_40</th>\n",
              "      <th>kp_txn_amt_percentile_50</th>\n",
              "      <th>kp_txn_amt_percentile_60</th>\n",
              "      <th>kp_txn_amt_percentile_70</th>\n",
              "      <th>kp_txn_amt_percentile_80</th>\n",
              "      <th>kp_txn_amt_percentile_90</th>\n",
              "      <th>kp_txn_amt_max</th>\n",
              "    </tr>\n",
              "  </thead>\n",
              "  <tbody>\n",
              "    <tr>\n",
              "      <th>0</th>\n",
              "      <td>1</td>\n",
              "      <td>2</td>\n",
              "      <td>1.000</td>\n",
              "      <td>0.000000</td>\n",
              "      <td>1</td>\n",
              "      <td>1.0</td>\n",
              "      <td>1.0</td>\n",
              "      <td>1.0</td>\n",
              "      <td>1.0</td>\n",
              "      <td>1.0</td>\n",
              "      <td>...</td>\n",
              "      <td>1550</td>\n",
              "      <td>1600</td>\n",
              "      <td>1650.0</td>\n",
              "      <td>1700</td>\n",
              "      <td>1750</td>\n",
              "      <td>1800.0</td>\n",
              "      <td>1850.0</td>\n",
              "      <td>1900</td>\n",
              "      <td>1950.0</td>\n",
              "      <td>2000</td>\n",
              "    </tr>\n",
              "    <tr>\n",
              "      <th>1</th>\n",
              "      <td>10</td>\n",
              "      <td>20</td>\n",
              "      <td>2.150</td>\n",
              "      <td>1.089423</td>\n",
              "      <td>1</td>\n",
              "      <td>1.0</td>\n",
              "      <td>1.0</td>\n",
              "      <td>1.0</td>\n",
              "      <td>1.6</td>\n",
              "      <td>2.0</td>\n",
              "      <td>...</td>\n",
              "      <td>100</td>\n",
              "      <td>500</td>\n",
              "      <td>500.0</td>\n",
              "      <td>600</td>\n",
              "      <td>750</td>\n",
              "      <td>1400.0</td>\n",
              "      <td>2560.0</td>\n",
              "      <td>3620</td>\n",
              "      <td>8190.0</td>\n",
              "      <td>30000</td>\n",
              "    </tr>\n",
              "    <tr>\n",
              "      <th>2</th>\n",
              "      <td>100</td>\n",
              "      <td>25</td>\n",
              "      <td>9.640</td>\n",
              "      <td>4.142061</td>\n",
              "      <td>2</td>\n",
              "      <td>4.8</td>\n",
              "      <td>7.0</td>\n",
              "      <td>7.2</td>\n",
              "      <td>8.0</td>\n",
              "      <td>9.0</td>\n",
              "      <td>...</td>\n",
              "      <td>7140</td>\n",
              "      <td>16500</td>\n",
              "      <td>22080.0</td>\n",
              "      <td>26080</td>\n",
              "      <td>35000</td>\n",
              "      <td>38900.0</td>\n",
              "      <td>39940.0</td>\n",
              "      <td>53580</td>\n",
              "      <td>88720.0</td>\n",
              "      <td>102400</td>\n",
              "    </tr>\n",
              "    <tr>\n",
              "      <th>3</th>\n",
              "      <td>1000</td>\n",
              "      <td>16</td>\n",
              "      <td>3.375</td>\n",
              "      <td>2.305790</td>\n",
              "      <td>1</td>\n",
              "      <td>1.0</td>\n",
              "      <td>1.0</td>\n",
              "      <td>1.5</td>\n",
              "      <td>2.0</td>\n",
              "      <td>3.0</td>\n",
              "      <td>...</td>\n",
              "      <td>2950</td>\n",
              "      <td>3200</td>\n",
              "      <td>4300.0</td>\n",
              "      <td>5000</td>\n",
              "      <td>5900</td>\n",
              "      <td>8100.0</td>\n",
              "      <td>9150.0</td>\n",
              "      <td>12300</td>\n",
              "      <td>13250.0</td>\n",
              "      <td>14500</td>\n",
              "    </tr>\n",
              "    <tr>\n",
              "      <th>4</th>\n",
              "      <td>10000</td>\n",
              "      <td>12</td>\n",
              "      <td>1.500</td>\n",
              "      <td>0.904534</td>\n",
              "      <td>1</td>\n",
              "      <td>1.0</td>\n",
              "      <td>1.0</td>\n",
              "      <td>1.0</td>\n",
              "      <td>1.0</td>\n",
              "      <td>1.0</td>\n",
              "      <td>...</td>\n",
              "      <td>110</td>\n",
              "      <td>200</td>\n",
              "      <td>290.0</td>\n",
              "      <td>500</td>\n",
              "      <td>500</td>\n",
              "      <td>500.0</td>\n",
              "      <td>1060.0</td>\n",
              "      <td>1940</td>\n",
              "      <td>2460.0</td>\n",
              "      <td>3000</td>\n",
              "    </tr>\n",
              "  </tbody>\n",
              "</table>\n",
              "<p>5 rows × 29 columns</p>\n",
              "</div>"
            ],
            "text/plain": [
              "      id  kp_txn_count_size  kp_txn_count_mean  kp_txn_count_std  \\\n",
              "0      1                  2              1.000          0.000000   \n",
              "1     10                 20              2.150          1.089423   \n",
              "2    100                 25              9.640          4.142061   \n",
              "3   1000                 16              3.375          2.305790   \n",
              "4  10000                 12              1.500          0.904534   \n",
              "\n",
              "   kp_txn_count_min  kp_txn_count_percentile_10  kp_txn_count_percentile_20  \\\n",
              "0                 1                         1.0                         1.0   \n",
              "1                 1                         1.0                         1.0   \n",
              "2                 2                         4.8                         7.0   \n",
              "3                 1                         1.0                         1.0   \n",
              "4                 1                         1.0                         1.0   \n",
              "\n",
              "   kp_txn_count_percentile_30  kp_txn_count_percentile_40  \\\n",
              "0                         1.0                         1.0   \n",
              "1                         1.0                         1.6   \n",
              "2                         7.2                         8.0   \n",
              "3                         1.5                         2.0   \n",
              "4                         1.0                         1.0   \n",
              "\n",
              "   kp_txn_count_percentile_50  ...  kp_txn_amt_percentile_10  \\\n",
              "0                         1.0  ...                      1550   \n",
              "1                         2.0  ...                       100   \n",
              "2                         9.0  ...                      7140   \n",
              "3                         3.0  ...                      2950   \n",
              "4                         1.0  ...                       110   \n",
              "\n",
              "   kp_txn_amt_percentile_20  kp_txn_amt_percentile_30  \\\n",
              "0                      1600                    1650.0   \n",
              "1                       500                     500.0   \n",
              "2                     16500                   22080.0   \n",
              "3                      3200                    4300.0   \n",
              "4                       200                     290.0   \n",
              "\n",
              "   kp_txn_amt_percentile_40  kp_txn_amt_percentile_50  \\\n",
              "0                      1700                      1750   \n",
              "1                       600                       750   \n",
              "2                     26080                     35000   \n",
              "3                      5000                      5900   \n",
              "4                       500                       500   \n",
              "\n",
              "   kp_txn_amt_percentile_60  kp_txn_amt_percentile_70  \\\n",
              "0                    1800.0                    1850.0   \n",
              "1                    1400.0                    2560.0   \n",
              "2                   38900.0                   39940.0   \n",
              "3                    8100.0                    9150.0   \n",
              "4                     500.0                    1060.0   \n",
              "\n",
              "   kp_txn_amt_percentile_80  kp_txn_amt_percentile_90  kp_txn_amt_max  \n",
              "0                      1900                    1950.0            2000  \n",
              "1                      3620                    8190.0           30000  \n",
              "2                     53580                   88720.0          102400  \n",
              "3                     12300                   13250.0           14500  \n",
              "4                      1940                    2460.0            3000  \n",
              "\n",
              "[5 rows x 29 columns]"
            ]
          },
          "metadata": {}
        }
      ],
      "execution_count": 20,
      "metadata": {}
    },
    {
      "cell_type": "markdown",
      "source": [
        "# Merge training set"
      ],
      "metadata": {}
    },
    {
      "cell_type": "code",
      "source": [
        "dataset = demographics_feature.merge(kplus_data_feature, left_on=['id'], right_on=['id'], how='left')"
      ],
      "outputs": [],
      "execution_count": 21,
      "metadata": {}
    },
    {
      "cell_type": "code",
      "source": [
        "dataset = dataset.merge(cc_data_feature, left_on=['id'], right_on=['id'], how='left')"
      ],
      "outputs": [],
      "execution_count": 22,
      "metadata": {}
    },
    {
      "cell_type": "code",
      "source": [
        "base_set = dataset.fillna(0)\n",
        "training_set = base_set"
      ],
      "outputs": [],
      "execution_count": 23,
      "metadata": {}
    },
    {
      "cell_type": "code",
      "source": [
        "training_set_with_label = training_set.merge(train_data,  left_on=['id'], right_on=['id'])"
      ],
      "outputs": [],
      "execution_count": 24,
      "metadata": {}
    },
    {
      "cell_type": "markdown",
      "source": [
        "# Train model"
      ],
      "metadata": {}
    },
    {
      "cell_type": "code",
      "source": [
        "X = training_set_with_label.drop(columns=['id', 'income'])\n",
        "Y = training_set_with_label['income']"
      ],
      "outputs": [],
      "execution_count": 25,
      "metadata": {}
    },
    {
      "cell_type": "code",
      "source": [
        "from sklearn.model_selection import train_test_split\n",
        "X_train, X_test, Y_train, Y_test = train_test_split(X, Y, test_size=0.2)"
      ],
      "outputs": [],
      "execution_count": 26,
      "metadata": {}
    },
    {
      "cell_type": "code",
      "source": [
        "from sklearn.pipeline import make_pipeline\n",
        "from sklearn.ensemble import GradientBoostingRegressor\n",
        "from sklearn.preprocessing import MaxAbsScaler\n",
        "\n",
        "\n",
        "exported_pipeline=  make_pipeline(\n",
        "    MaxAbsScaler(),\n",
        "    GradientBoostingRegressor(alpha=0.85, learning_rate=0.1, loss=\"lad\", max_depth=6, max_features=0.85, min_samples_leaf=25, min_samples_split=15, n_estimators=1000, subsample=0.7)\n",
        ")\n",
        "\n",
        "exported_pipeline.fit(X_train, Y_train)"
      ],
      "outputs": [
        {
          "output_type": "execute_result",
          "execution_count": 54,
          "data": {
            "text/plain": [
              "Pipeline(memory=None,\n",
              "     steps=[('maxabsscaler', MaxAbsScaler(copy=True)), ('gradientboostingregressor', GradientBoostingRegressor(alpha=0.85, criterion='friedman_mse', init=None,\n",
              "             learning_rate=0.1, loss='lad', max_depth=30,\n",
              "             max_features=0.8500000000000001, max_leaf_nodes=None,\n",
              "             min_imp...0.7000000000000001, tol=0.0001,\n",
              "             validation_fraction=0.1, verbose=0, warm_start=False))])"
            ]
          },
          "metadata": {}
        }
      ],
      "execution_count": 54,
      "metadata": {}
    },
    {
      "cell_type": "code",
      "source": [
        "from sklearn.metrics import mean_absolute_error\n",
        "Y_predict_train = exported_pipeline.predict(X_train)\n",
        "Y_predict_test = exported_pipeline.predict(X_test)\n",
        "\n",
        "print('Train::MAE',mean_absolute_error(Y_train, Y_predict_train, multioutput='raw_values'))\n",
        "print('Test::MAE',mean_absolute_error(Y_test, Y_predict_test, multioutput='raw_values'))"
      ],
      "outputs": [
        {
          "output_type": "stream",
          "name": "stdout",
          "text": [
            "Train::MAE [10840.98487934]\n",
            "Test::MAE [23148.03101759]\n"
          ]
        }
      ],
      "execution_count": 55,
      "metadata": {}
    },
    {
      "cell_type": "code",
      "source": [
        "print('Train::SMAPE',smape(Y_train, Y_predict_train))\n",
        "print('Test::SMAPE',smape(Y_test, Y_predict_test))"
      ],
      "outputs": [
        {
          "output_type": "stream",
          "name": "stdout",
          "text": [
            "Train::SMAPE 79.93687841365522\n",
            "Test::SMAPE 54.91997316589099\n"
          ]
        }
      ],
      "execution_count": 56,
      "metadata": {}
    },
    {
      "cell_type": "code",
      "source": [
        "from yellowbrick.regressor import ResidualsPlot\n",
        "visualizer = ResidualsPlot(exported_pipeline)\n",
        "\n",
        "visualizer.fit(X_train, Y_train)  # Fit the training data to the visualizer\n",
        "visualizer.score(X_test, Y_test)  # Evaluate the model on the test data\n",
        "visualizer.show()     "
      ],
      "outputs": [
        {
          "output_type": "display_data",
          "data": {
            "image/png": "[encoded data removed]",
            "text/plain": [
              "<Figure size 432x288 with 2 Axes>"
            ]
          },
          "metadata": {
            "needs_background": "light"
          }
        },
        {
          "output_type": "execute_result",
          "execution_count": 57,
          "data": {
            "text/plain": [
              "<matplotlib.axes._subplots.AxesSubplot at 0x23136ee2048>"
            ]
          },
          "metadata": {}
        }
      ],
      "execution_count": 57,
      "metadata": {}
    },
    {
      "cell_type": "markdown",
      "source": [
        "# Predict income"
      ],
      "metadata": {}
    },
    {
      "cell_type": "code",
      "source": [
        "test_set_for_send = test_data.merge(base_set,  left_on=['id'], right_on=['id'])"
      ],
      "outputs": [],
      "execution_count": 58,
      "metadata": {}
    },
    {
      "cell_type": "code",
      "source": [
        "test_set_for_send.set_index(['id'], inplace=True)"
      ],
      "outputs": [],
      "execution_count": 59,
      "metadata": {}
    },
    {
      "cell_type": "code",
      "source": [
        "results = exported_pipeline.predict(test_set_for_send)"
      ],
      "outputs": [],
      "execution_count": 60,
      "metadata": {}
    },
    {
      "cell_type": "code",
      "source": [
        "test_set_for_send['income'] = results"
      ],
      "outputs": [],
      "execution_count": 61,
      "metadata": {}
    },
    {
      "cell_type": "code",
      "source": [
        "test_set_for_send.reset_index(inplace=True)"
      ],
      "outputs": [],
      "execution_count": 62,
      "metadata": {}
    },
    {
      "cell_type": "code",
      "source": [
        "send_predict = test_set_for_send[['id','income']]"
      ],
      "outputs": [],
      "execution_count": 63,
      "metadata": {}
    },
    {
      "cell_type": "code",
      "source": [
        "send_predict.to_csv('O_165.csv',index=False)"
      ],
      "outputs": [],
      "execution_count": 64,
      "metadata": {}
    },
    {
      "cell_type": "code",
      "source": [],
      "outputs": [],
      "execution_count": null,
      "metadata": {}
    }
  ],
  "metadata": {
    "kernelspec": {
      "display_name": "Python 3",
      "language": "python",
      "name": "python3"
    },
    "language_info": {
      "codemirror_mode": {
        "name": "ipython",
        "version": 3
      },
      "file_extension": ".py",
      "mimetype": "text/x-python",
      "name": "python",
      "nbconvert_exporter": "python",
      "pygments_lexer": "ipython3",
      "version": "3.7.3"
    },
    "nteract": {
      "version": "0.15.0"
    }
  },
  "nbformat": 4,
  "nbformat_minor": 2
}